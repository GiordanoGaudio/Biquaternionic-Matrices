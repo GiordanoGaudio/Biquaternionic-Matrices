{
 "cells": [
  {
   "cell_type": "code",
   "execution_count": 1,
   "metadata": {},
   "outputs": [],
   "source": [
    "from sympy import *\n",
    "import sympy.algebras.quaternion as qt\n",
    "\n",
    "from BiquaternionicMatrix import *"
   ]
  },
  {
   "cell_type": "markdown",
   "metadata": {},
   "source": [
    "In my 2021 summer research project I was investigating the algebra $\\text{Cliff}_{\\mathbb{R}}(3,1)$, that is the Clifford algebra of spacetime (https://en.wikipedia.org/wiki/Clifford_algebra for more info. on Clifford algebras).\n",
    "\n",
    "As it turns out, the algebra I was interested it had 4 important basis generators that I called $\\hat{i}, \\hat{j}, s, t$. The rules were that both $(\\hat{i}, \\hat{j})$ and $(s,t)$ individually form algebras $A$ and $B$ each isomorphic to the quaternions $\\mathbb{H}$. Additionally, all elements in $A$ commute with all elements in $B$.\n",
    "\n",
    "It is claimed in quite a few textbooks that  $\\text{Cliff}_{\\mathbb{R}}(3,1) \\cong \\mathfrak{gl}_{\\mathbb H}(2)$ the set of 2by2 matrices with quaternionic entries. Under this assumption, and motivated by results from $\\text{Cliff}_{\\mathbb{R}}(3,0)$ I had tried to build the isomorphism as such\n",
    "\n",
    "\\begin{equation}\n",
    "    \\hat{i} \\to \\hat{I}\\sigma_1 = \\begin{bmatrix} 0 & \\hat{I} \\\\ \\hat{I} & 0 \\end{bmatrix}\n",
    "\\end{equation}\n",
    "\n",
    "\\begin{equation}\n",
    "    \\hat{j} \\to \\hat{I}\\sigma_{2,\\hat{I}} = \\begin{bmatrix} 0 & 1 \\\\ -1 & 0 \\end{bmatrix}\n",
    "\\end{equation}\n",
    "\n",
    "\\begin{equation}\n",
    "    s \\to \\hat{I}\\sigma_0 = \\begin{bmatrix} \\hat{I} & 0 \\\\ 0 & \\hat{I}  \\end{bmatrix}\n",
    "\\end{equation}\n",
    "\n",
    "The final problem then was to find a matrix to represent $t$ in $\\mathfrak{gl}_{\\mathbb H}(2)$. It needed to satisfy the following properties\n",
    "\n",
    "\\begin{equation}\n",
    "      t^2 = -1, [t,\\hat{i}] = [t,\\hat{j}] = \\{t, s \\} = 0\n",
    "\\end{equation}\n",
    "\n",
    "Now every 2by2 quaternionic matrix has 16 real components, and the algebra is noncommutative. So trying to find $t$ by hand would be very difficult. In addition $t$ might not even exist as stated here. So lets use BiquaternionicMatrix.py to simplify the problem.\n",
    "\n",
    "First we need to define the matrices above, and define $t$ as an arbitrary matrix, with complex real components (as we do not yet believe that we are working with biquaternions)"
   ]
  },
  {
   "cell_type": "code",
   "execution_count": 8,
   "metadata": {},
   "outputs": [],
   "source": [
    "ihat, jhat, s = BQ_Matrix(Z, Ihat, Ihat, Z), BQ_Matrix(Z, U, -U, Z), BQ_Matrix(Ihat, Z, Z, Ihat)\n",
    "\n",
    "t = BQ_Matrix.ize('w', 'x', 'y', 'z', complex_condition = 'real')\n"
   ]
  },
  {
   "cell_type": "code",
   "execution_count": 9,
   "metadata": {},
   "outputs": [
    {
     "data": {
      "text/latex": [
       "$\\displaystyle \\left[\\begin{matrix}\\hat{I} w^{re}_{1} + \\hat{J} w^{re}_{2} + \\hat{K} w^{re}_{3} + w^{re}_{0} & \\hat{I} x^{re}_{1} + \\hat{J} x^{re}_{2} + \\hat{K} x^{re}_{3} + x^{re}_{0}\\\\\\hat{I} y^{re}_{1} + \\hat{J} y^{re}_{2} + \\hat{K} y^{re}_{3} + y^{re}_{0} & \\hat{I} z^{re}_{1} + \\hat{J} z^{re}_{2} + \\hat{K} z^{re}_{3} + z^{re}_{0}\\end{matrix}\\right]$"
      ],
      "text/plain": [
       "Matrix([\n",
       "[\\hat{I}*w^{re}_{1} + \\hat{J}*w^{re}_{2} + \\hat{K}*w^{re}_{3} + w^{re}_{0}, \\hat{I}*x^{re}_{1} + \\hat{J}*x^{re}_{2} + \\hat{K}*x^{re}_{3} + x^{re}_{0}],\n",
       "[\\hat{I}*y^{re}_{1} + \\hat{J}*y^{re}_{2} + \\hat{K}*y^{re}_{3} + y^{re}_{0}, \\hat{I}*z^{re}_{1} + \\hat{J}*z^{re}_{2} + \\hat{K}*z^{re}_{3} + z^{re}_{0}]])"
      ]
     },
     "execution_count": 9,
     "metadata": {},
     "output_type": "execute_result"
    }
   ],
   "source": [
    "t.show()"
   ]
  },
  {
   "cell_type": "markdown",
   "metadata": {},
   "source": [
    "Then we can simply go down the list of conditions and choose the parameters of $t$ to fit the properties. First $\\{ t, s\\} = 0$"
   ]
  },
  {
   "cell_type": "code",
   "execution_count": 13,
   "metadata": {},
   "outputs": [
    {
     "data": {
      "text/latex": [
       "$\\displaystyle \\left[\\begin{matrix}2 \\hat{I} w^{re}_{0} - 2 w^{re}_{1} & 2 \\hat{I} x^{re}_{0} - 2 x^{re}_{1}\\\\2 \\hat{I} y^{re}_{0} - 2 y^{re}_{1} & 2 \\hat{I} z^{re}_{0} - 2 z^{re}_{1}\\end{matrix}\\right]$"
      ],
      "text/plain": [
       "Matrix([\n",
       "[2*\\hat{I}*w^{re}_{0} - 2*w^{re}_{1}, 2*\\hat{I}*x^{re}_{0} - 2*x^{re}_{1}],\n",
       "[2*\\hat{I}*y^{re}_{0} - 2*y^{re}_{1}, 2*\\hat{I}*z^{re}_{0} - 2*z^{re}_{1}]])"
      ]
     },
     "execution_count": 13,
     "metadata": {},
     "output_type": "execute_result"
    }
   ],
   "source": [
    "t.anticommutator(s).show()"
   ]
  },
  {
   "cell_type": "markdown",
   "metadata": {},
   "source": [
    "Given that this matrix must be the zero matrix it follows that\n",
    "\n",
    "\\begin{equation}\n",
    "w_0, w_1, x_0, x_1, y_0, y_1, z0, z1 = 0 \n",
    "\\end{equation}\n"
   ]
  },
  {
   "cell_type": "code",
   "execution_count": 17,
   "metadata": {},
   "outputs": [
    {
     "data": {
      "text/latex": [
       "$\\displaystyle \\left[\\begin{matrix}\\hat{J} w_{2} + \\hat{K} w_{3} & \\hat{J} x_{2} + \\hat{K} x_{3}\\\\\\hat{J} y_{2} + \\hat{K} y_{3} & \\hat{J} z_{2} + \\hat{K} z_{3}\\end{matrix}\\right]$"
      ],
      "text/plain": [
       "Matrix([\n",
       "[\\hat{J}*w2 + \\hat{K}*w3, \\hat{J}*x2 + \\hat{K}*x3],\n",
       "[\\hat{J}*y2 + \\hat{K}*y3, \\hat{J}*z2 + \\hat{K}*z3]])"
      ]
     },
     "execution_count": 17,
     "metadata": {},
     "output_type": "execute_result"
    }
   ],
   "source": [
    "w2,w3,x2,x3,y2,y3,z2,z3 = symbols(\"w2 w3 x2 x3 y2 y3 z2 z3\")\n",
    "\n",
    "w = qt.Quaternion(0,0,w2,w3)\n",
    "x = qt.Quaternion(0,0,x2,x3)\n",
    "y = qt.Quaternion(0,0,y2,y3)\n",
    "z = qt.Quaternion(0,0,z2,z3)\n",
    "\n",
    "t = BQ_Matrix(w,x,y,z)\n",
    "\n",
    "t.show()"
   ]
  },
  {
   "cell_type": "markdown",
   "metadata": {},
   "source": [
    "And now we can show that this satisfies the condition on $s$\n",
    "\n",
    "\n",
    "\n",
    "\n"
   ]
  },
  {
   "cell_type": "code",
   "execution_count": 18,
   "metadata": {},
   "outputs": [
    {
     "data": {
      "text/latex": [
       "$\\displaystyle \\left[\\begin{matrix}0 & 0\\\\0 & 0\\end{matrix}\\right]$"
      ],
      "text/plain": [
       "Matrix([\n",
       "[0, 0],\n",
       "[0, 0]])"
      ]
     },
     "execution_count": 18,
     "metadata": {},
     "output_type": "execute_result"
    }
   ],
   "source": [
    "t.anticommutator(s).show()"
   ]
  },
  {
   "cell_type": "markdown",
   "metadata": {},
   "source": [
    "Next we move to the condition on $\\hat{i}, \\hat{j}$"
   ]
  },
  {
   "cell_type": "code",
   "execution_count": 19,
   "metadata": {},
   "outputs": [
    {
     "data": {
      "text/latex": [
       "$\\displaystyle \\left[\\begin{matrix}\\hat{J} \\left(x_{3} + y_{3}\\right) + \\hat{K} \\left(- x_{2} - y_{2}\\right) & \\hat{J} \\left(w_{3} + z_{3}\\right) + \\hat{K} \\left(- w_{2} - z_{2}\\right)\\\\\\hat{J} \\left(w_{3} + z_{3}\\right) + \\hat{K} \\left(- w_{2} - z_{2}\\right) & \\hat{J} \\left(x_{3} + y_{3}\\right) + \\hat{K} \\left(- x_{2} - y_{2}\\right)\\end{matrix}\\right]$"
      ],
      "text/plain": [
       "Matrix([\n",
       "[\\hat{J}*(x3 + y3) + \\hat{K}*(-x2 - y2), \\hat{J}*(w3 + z3) + \\hat{K}*(-w2 - z2)],\n",
       "[\\hat{J}*(w3 + z3) + \\hat{K}*(-w2 - z2), \\hat{J}*(x3 + y3) + \\hat{K}*(-x2 - y2)]])"
      ]
     },
     "execution_count": 19,
     "metadata": {},
     "output_type": "execute_result"
    }
   ],
   "source": [
    "t.commutator(ihat).show()"
   ]
  },
  {
   "cell_type": "code",
   "execution_count": 20,
   "metadata": {},
   "outputs": [
    {
     "data": {
      "text/latex": [
       "$\\displaystyle \\left[\\begin{matrix}\\hat{J} \\left(- x_{2} - y_{2}\\right) + \\hat{K} \\left(- x_{3} - y_{3}\\right) & \\hat{J} \\left(w_{2} - z_{2}\\right) + \\hat{K} \\left(w_{3} - z_{3}\\right)\\\\\\hat{J} \\left(w_{2} - z_{2}\\right) + \\hat{K} \\left(w_{3} - z_{3}\\right) & \\hat{J} \\left(x_{2} + y_{2}\\right) + \\hat{K} \\left(x_{3} + y_{3}\\right)\\end{matrix}\\right]$"
      ],
      "text/plain": [
       "Matrix([\n",
       "[\\hat{J}*(-x2 - y2) + \\hat{K}*(-x3 - y3), \\hat{J}*(w2 - z2) + \\hat{K}*(w3 - z3)],\n",
       "[  \\hat{J}*(w2 - z2) + \\hat{K}*(w3 - z3), \\hat{J}*(x2 + y2) + \\hat{K}*(x3 + y3)]])"
      ]
     },
     "execution_count": 20,
     "metadata": {},
     "output_type": "execute_result"
    }
   ],
   "source": [
    "t.commutator(jhat).show()"
   ]
  },
  {
   "cell_type": "markdown",
   "metadata": {},
   "source": [
    "From these we conclude that $w_2, w_3, z_2, z_3 = 0, y_2 = - x_2, y_3 = -x_3$"
   ]
  },
  {
   "cell_type": "code",
   "execution_count": 21,
   "metadata": {},
   "outputs": [
    {
     "data": {
      "text/latex": [
       "$\\displaystyle \\left[\\begin{matrix}0 & \\hat{J} x_{2} + \\hat{K} x_{3}\\\\- \\hat{J} x_{2} - \\hat{K} x_{3} & 0\\end{matrix}\\right]$"
      ],
      "text/plain": [
       "Matrix([\n",
       "[                       0, \\hat{J}*x2 + \\hat{K}*x3],\n",
       "[-\\hat{J}*x2 - \\hat{K}*x3,                       0]])"
      ]
     },
     "execution_count": 21,
     "metadata": {},
     "output_type": "execute_result"
    }
   ],
   "source": [
    "\n",
    "x = qt.Quaternion(0,0,x2,x3)\n",
    "t = BQ_Matrix(Z,x,-x,Z)\n",
    "\n",
    "t.show()"
   ]
  },
  {
   "cell_type": "markdown",
   "metadata": {},
   "source": [
    "This satisfies the conditions:"
   ]
  },
  {
   "cell_type": "code",
   "execution_count": 22,
   "metadata": {},
   "outputs": [
    {
     "data": {
      "text/latex": [
       "$\\displaystyle \\left[\\begin{matrix}0 & 0\\\\0 & 0\\end{matrix}\\right]$"
      ],
      "text/plain": [
       "Matrix([\n",
       "[0, 0],\n",
       "[0, 0]])"
      ]
     },
     "execution_count": 22,
     "metadata": {},
     "output_type": "execute_result"
    }
   ],
   "source": [
    "t.commutator(ihat).show()"
   ]
  },
  {
   "cell_type": "code",
   "execution_count": 23,
   "metadata": {},
   "outputs": [
    {
     "data": {
      "text/latex": [
       "$\\displaystyle \\left[\\begin{matrix}0 & 0\\\\0 & 0\\end{matrix}\\right]$"
      ],
      "text/plain": [
       "Matrix([\n",
       "[0, 0],\n",
       "[0, 0]])"
      ]
     },
     "execution_count": 23,
     "metadata": {},
     "output_type": "execute_result"
    }
   ],
   "source": [
    "t.commutator(jhat).show()"
   ]
  },
  {
   "cell_type": "markdown",
   "metadata": {},
   "source": [
    "Lastly we check what is needed for $t^2 = -1$"
   ]
  },
  {
   "cell_type": "code",
   "execution_count": 25,
   "metadata": {},
   "outputs": [
    {
     "data": {
      "text/latex": [
       "$\\displaystyle \\left[\\begin{matrix}x_{2}^{2} + x_{3}^{2} & 0\\\\0 & x_{2}^{2} + x_{3}^{2}\\end{matrix}\\right]$"
      ],
      "text/plain": [
       "Matrix([\n",
       "[x2**2 + x3**2,             0],\n",
       "[            0, x2**2 + x3**2]])"
      ]
     },
     "execution_count": 25,
     "metadata": {},
     "output_type": "execute_result"
    }
   ],
   "source": [
    "t.dot(t).show()"
   ]
  },
  {
   "cell_type": "markdown",
   "metadata": {},
   "source": [
    "Note: we have landed on the fact that for $t^2 = -1$ it must be the case that $x_2^2 + x_3^2 = -1$ The only way this can happen is if $x_2, x_3 \\in \\mathbb C / \\mathbb R $. (That is they are imaginary). Then one solution is $x_2 = x_3 = \\frac{i}{\\sqrt{2}}$"
   ]
  },
  {
   "cell_type": "code",
   "execution_count": 28,
   "metadata": {},
   "outputs": [],
   "source": [
    "x = qt.Quaternion(0,0,I/sqrt(2),I/sqrt(2))\n",
    "t = BQ_Matrix(Z,x,-x,Z)"
   ]
  },
  {
   "cell_type": "code",
   "execution_count": 29,
   "metadata": {},
   "outputs": [
    {
     "data": {
      "text/latex": [
       "$\\displaystyle \\left[\\begin{matrix}0 & \\frac{\\sqrt{2} i \\hat{J}}{2} + \\frac{\\sqrt{2} i \\hat{K}}{2}\\\\- \\frac{\\sqrt{2} i \\hat{J}}{2} - \\frac{\\sqrt{2} i \\hat{K}}{2} & 0\\end{matrix}\\right]$"
      ],
      "text/plain": [
       "Matrix([\n",
       "[                                         0, sqrt(2)*I*\\hat{J}/2 + sqrt(2)*I*\\hat{K}/2],\n",
       "[-sqrt(2)*I*\\hat{J}/2 - sqrt(2)*I*\\hat{K}/2,                                         0]])"
      ]
     },
     "execution_count": 29,
     "metadata": {},
     "output_type": "execute_result"
    }
   ],
   "source": [
    "t.show()"
   ]
  },
  {
   "cell_type": "markdown",
   "metadata": {},
   "source": [
    "And $t^2 = -1$"
   ]
  },
  {
   "cell_type": "code",
   "execution_count": 31,
   "metadata": {},
   "outputs": [
    {
     "data": {
      "text/latex": [
       "$\\displaystyle \\left[\\begin{matrix}-1 & 0\\\\0 & -1\\end{matrix}\\right]$"
      ],
      "text/plain": [
       "Matrix([\n",
       "[-1,  0],\n",
       "[ 0, -1]])"
      ]
     },
     "execution_count": 31,
     "metadata": {},
     "output_type": "execute_result"
    }
   ],
   "source": [
    "t.dot(t).show()"
   ]
  },
  {
   "cell_type": "markdown",
   "metadata": {},
   "source": [
    "It follows then that if the isomorphism uses \n",
    "\n",
    "\\begin{equation}\n",
    "    \\hat{i} \\to \\hat{I}\\sigma_1 = \\begin{bmatrix} 0 & \\hat{I} \\\\ \\hat{I} & 0 \\end{bmatrix}\n",
    "\\end{equation}\n",
    "\n",
    "\\begin{equation}\n",
    "    \\hat{j} \\to \\hat{I}\\sigma_{2,\\hat{I}} = \\begin{bmatrix} 0 & 1 \\\\ -1 & 0 \\end{bmatrix}\n",
    "\\end{equation}\n",
    "\n",
    "\\begin{equation}\n",
    "    s \\to \\hat{I}\\sigma_0 = \\begin{bmatrix} \\hat{I} & 0 \\\\ 0 & \\hat{I}  \\end{bmatrix}\n",
    "\\end{equation}\n",
    "\n",
    "it must be that\n",
    "\n",
    "\\begin{equation}\n",
    "    t \\to  \\begin{bmatrix} 0 & \\frac{i(\\hat{J} + \\hat{K})}{\\sqrt {2}}  \\\\ \\frac{i(\\hat{J} + \\hat{K})}{\\sqrt {2}}   & 0 \\end{bmatrix}\n",
    "\\end{equation}\n",
    "\n",
    "Which means that (at least through this function)  $\\text{Cliff}_{\\mathbb{R}}(3,1) \\not\\cong \\mathfrak{gl}_{\\mathbb H}(2)$ but instead with some subalgebra of the biquaternions. This fact would have very difficult to show without this package. \n",
    "\n",
    "\n",
    "As a side note (and the end point of my research so far) if we are going to allow ourselves to use biquaternionic matrices then a much easier isomorphism is\n",
    "\n",
    "\\begin{equation}\n",
    "    \\hat{i} \\to i\\sigma_1 = \\begin{bmatrix} 0 & i \\\\ i & 0 \\end{bmatrix}\n",
    "\\end{equation}\n",
    "\n",
    "\\begin{equation}\n",
    "    \\hat{j} \\to i\\sigma_{2} = \\begin{bmatrix} 0 & 1 \\\\ -1 & 0 \\end{bmatrix}\n",
    "\\end{equation}\n",
    "\n",
    "\\begin{equation}\n",
    "    s \\to \\hat{I}\\sigma_0 = \\begin{bmatrix} \\hat{I} & 0 \\\\ 0 & \\hat{I}  \\end{bmatrix}\n",
    "\\end{equation}\n",
    "\n",
    "\\begin{equation}\n",
    "   t \\to \\hat{J}\\sigma_0 = \\begin{bmatrix} \\hat{J} & 0 \\\\ 0 & \\hat{J}  \\end{bmatrix}\n",
    "\\end{equation}\n",
    "\n",
    "This has some other benefits, it ties parity and time reversal symmetries to $\\hat{I}$ and $\\hat{J}$ conjugations, and when we complexify the algebra to  $\\text{Cliff}_{\\mathbb{C}}(3,1)$ then the algebra actually does become isomorphic to $\\mathfrak{gl}_{\\mathbb B}(2)$ and charge conjugacy is represented by complex $i$ conjugation.\n",
    "\n",
    "Lastly, and importantly, this does not show that there is no isomorphism $\\text{Cliff}_{\\mathbb{R}}(3,1) \\cong \\mathfrak{gl}_{\\mathbb H}(2)$ only that the one proposed for $\\hat{i}, \\hat{j}, s$ cannot work. \n"
   ]
  }
 ],
 "metadata": {
  "kernelspec": {
   "display_name": "Python 3",
   "language": "python",
   "name": "python3"
  },
  "language_info": {
   "codemirror_mode": {
    "name": "ipython",
    "version": 3
   },
   "file_extension": ".py",
   "mimetype": "text/x-python",
   "name": "python",
   "nbconvert_exporter": "python",
   "pygments_lexer": "ipython3",
   "version": "3.8.5"
  }
 },
 "nbformat": 4,
 "nbformat_minor": 4
}
